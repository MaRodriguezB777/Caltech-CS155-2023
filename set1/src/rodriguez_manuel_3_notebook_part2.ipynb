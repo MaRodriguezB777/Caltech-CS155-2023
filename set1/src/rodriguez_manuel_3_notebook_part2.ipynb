{
  "cells": [
    {
      "cell_type": "markdown",
      "metadata": {
        "colab_type": "text",
        "id": "view-in-github"
      },
      "source": [
        "<a href=\"https://colab.research.google.com/github/charlesincharge/CS155/blob/revise-set-1/2022/sets/set1/src/3_notebook_part2.ipynb\" target=\"_parent\"><img src=\"https://colab.research.google.com/assets/colab-badge.svg\" alt=\"Open In Colab\"/></a>"
      ]
    },
    {
      "cell_type": "markdown",
      "metadata": {
        "id": "9MiHp58KI7c_"
      },
      "source": [
        "# Problem 3, Parts G-I: Stochastic Gradient Descent with a Larger Dataset"
      ]
    },
    {
      "cell_type": "markdown",
      "metadata": {
        "id": "xBMavqB9I7dD"
      },
      "source": [
        "Use this notebook to write your code for problem 3 parts G-I by filling in the sections marked `# TODO` and running all cells."
      ]
    },
    {
      "cell_type": "code",
      "execution_count": 2,
      "metadata": {
        "collapsed": true,
        "id": "zD8uOTAbI7dE"
      },
      "outputs": [],
      "source": [
        "# Setup.\n",
        "\n",
        "import numpy as np\n",
        "import matplotlib.pyplot as plt\n",
        "\n",
        "%matplotlib inline"
      ]
    },
    {
      "cell_type": "markdown",
      "metadata": {
        "id": "KmeowyuSI7dF"
      },
      "source": [
        "## Problem 3G: Perform SGD with the new dataset"
      ]
    },
    {
      "cell_type": "markdown",
      "metadata": {
        "id": "b_Yr_uEXI7dG"
      },
      "source": [
        "For the functions below, you may re-use your code from parts 3D-F. Note that you can now modify your SGD function to return the final weight vector instead of the weights after every epoch."
      ]
    },
    {
      "cell_type": "code",
      "execution_count": 3,
      "metadata": {
        "collapsed": true,
        "id": "lOqNtnhXI7dG"
      },
      "outputs": [],
      "source": [
        "def loss(X, Y, w):\n",
        "    '''\n",
        "    Calculate the squared loss function.\n",
        "    \n",
        "    Inputs:\n",
        "        X: A (N, D) shaped numpy array containing the data points.\n",
        "        Y: A (N, ) shaped numpy array containing the (float) labels of the data points.\n",
        "        w: A (D, ) shaped numpy array containing the weight vector.\n",
        "    \n",
        "    Outputs:\n",
        "        The loss evaluated with respect to X, Y, and w.\n",
        "    '''\n",
        "    \n",
        "    #==============================================\n",
        "    # TODO: Implement the SGD loss function.\n",
        "    #==============================================\n",
        "    \n",
        "    loss_calc = 0\n",
        "    for ind in range(len(X)):\n",
        "        loss_calc += (np.dot(X[ind], w) - Y[ind])**2\n",
        "\n",
        "    return loss_calc\n",
        "\n",
        "def gradient(x, y, w):\n",
        "    '''\n",
        "    Calculate the gradient of the loss function with respect to\n",
        "    a single point (x, y), and using weight vector w.\n",
        "    \n",
        "    Inputs:\n",
        "        x: A (D, ) shaped numpy array containing a single data point.\n",
        "        y: The float label for the data point.\n",
        "        w: A (D, ) shaped numpy array containing the weight vector.\n",
        "        \n",
        "    Output:\n",
        "        The gradient of the loss with respect to x, y, and w. \n",
        "    '''\n",
        "    \n",
        "    #==============================================\n",
        "    # TODO: Implement the gradient of the loss function.\n",
        "    #==============================================    \n",
        "    \n",
        "    gradient = -2 * (y - np.dot(w, x)) * x\n",
        "    return gradient\n",
        "\n",
        "def SGD(X, Y, w_start, eta, N_epochs):\n",
        "    '''\n",
        "    Perform SGD using dataset (X, Y), initial weight vector w_start,\n",
        "    learning rate eta, and N_epochs epochs.\n",
        "    \n",
        "    Inputs:\n",
        "        X: A (N, D) shaped numpy array containing the data points.\n",
        "        Y: A (N, ) shaped numpy array containing the (float) labels of the data points.\n",
        "        w_start:  A (D, ) shaped numpy array containing the weight vector initialization.\n",
        "        eta: The step size.\n",
        "        N_epochs: The number of epochs (iterations) to run SGD.\n",
        "        \n",
        "    Outputs:\n",
        "        w: A (D, ) shaped array containing the final weight vector.\n",
        "        losses: A (N_epochs, ) shaped array containing the losses from all iterations.\n",
        "    '''\n",
        "    \n",
        "    #==============================================\n",
        "    # TODO: Implement the SGD algorithm.\n",
        "    #==============================================    \n",
        "    \n",
        "    losses = []\n",
        "    w_new = w_start\n",
        "    indices = [*range(len(X))]\n",
        "\n",
        "    for epoch in range(N_epochs):\n",
        "        np.random.permutation(indices)\n",
        "        \n",
        "\n",
        "        for ind in range(len(X)):\n",
        "            w_new = w_new - eta*gradient(X[indices[ind]], Y[indices[ind]], w_new)\n",
        "\n",
        "        losses.append(loss(X, Y, w_new))\n",
        "\n",
        "    return w_new, losses"
      ]
    },
    {
      "cell_type": "markdown",
      "metadata": {
        "id": "URle0yiaI7dI"
      },
      "source": [
        "Next, we need to load the dataset. In doing so, the following function may be helpful:"
      ]
    },
    {
      "cell_type": "code",
      "execution_count": 4,
      "metadata": {
        "collapsed": true,
        "id": "HawZHA9-I7dJ"
      },
      "outputs": [],
      "source": [
        "def load_data(filename):\n",
        "    \"\"\"\n",
        "    Function loads data stored in the file filename and returns it as a numpy ndarray.\n",
        "    \n",
        "    Inputs:\n",
        "        filename: GeneratorExitiven as a string.\n",
        "    \n",
        "    Outputs:\n",
        "        Data contained in the file, returned as a numpy ndarray\n",
        "    \"\"\"\n",
        "    return np.loadtxt(filename, skiprows=1, delimiter=',')"
      ]
    },
    {
      "cell_type": "markdown",
      "metadata": {
        "id": "miOL66ooI7dJ"
      },
      "source": [
        "Now, load the dataset in `sgd_data.csv` and run SGD using the given parameters; print out the final weights."
      ]
    },
    {
      "cell_type": "code",
      "execution_count": 9,
      "metadata": {
        "collapsed": true,
        "id": "w8zujpzQI7dK"
      },
      "outputs": [
        {
          "name": "stdout",
          "output_type": "stream",
          "text": [
            "[ -0.22720591  -5.94229011   3.94369494 -11.72402388   8.78549375]\n"
          ]
        }
      ],
      "source": [
        "#==============================================\n",
        "# TODO:\n",
        "# (1) load the dataset\n",
        "# (2) run SGD using the given parameters\n",
        "# (3) print out the final weights.\n",
        "#==============================================\n",
        "\n",
        "# The following should help you get started:\n",
        "data = load_data('https://raw.githubusercontent.com/emiletimothy/Caltech-CS155-2023/main/set1/src/data/sgd_data.csv')\n",
        "ones_col = np.array([1 for i in range(len(data))])\n",
        "X = np.column_stack((ones_col, data[:,:4]))\n",
        "Y = data[:, 4:]\n",
        "w_start = [0.001, 0.001, 0.001, 0.001, 0.001]\n",
        "eta = np.e**-15\n",
        "N_epochs = 800\n",
        "final_weight, _ = SGD(X, Y, w_start, eta, N_epochs)\n",
        "print(final_weight)"
      ]
    },
    {
      "cell_type": "markdown",
      "metadata": {
        "id": "hrQbch5ZI7dL"
      },
      "source": [
        "## Problem 3H: Convergence of SGD"
      ]
    },
    {
      "cell_type": "markdown",
      "metadata": {
        "id": "wifm5ZIMI7dL"
      },
      "source": [
        "This problem examines the convergence of SGD for different learning rates. Please implement your code in the cell below:"
      ]
    },
    {
      "cell_type": "code",
      "execution_count": 8,
      "metadata": {
        "collapsed": true,
        "id": "gV4SipwAI7dL"
      },
      "outputs": [
        {
          "data": {
            "text/plain": [
              "Text(0.5, 1.0, 'Plotting SGD Convergence')"
            ]
          },
          "execution_count": 8,
          "metadata": {},
          "output_type": "execute_result"
        },
        {
          "data": {
            "image/png": "[encoded data removed]",
            "text/plain": [
              "<Figure size 640x480 with 1 Axes>"
            ]
          },
          "metadata": {},
          "output_type": "display_data"
        }
      ],
      "source": [
        "#==============================================\n",
        "# TODO: create a plot showing the convergence\n",
        "# of SGD for the different learning rates.\n",
        "#==============================================\n",
        "\n",
        "colors = ['orange', 'red', 'green', 'brown', 'purple', 'purple']\n",
        "eta_vals = [np.e**-10, np.e**-11, np.e**-12, np.e**-13, np.e**-14, np.e**-15]\n",
        "losses = []\n",
        "for i in range(len(eta_vals)):\n",
        "    _, lossSGD = SGD(X, Y, w_start, eta_vals[i], N_epochs)\n",
        "    losses.append(lossSGD)\n",
        "\n",
        "plt.figure()\n",
        "for i in range(len(eta_vals)):\n",
        "    plt.plot([*range(1, N_epochs + 1)], losses[i], linewidth=1, color=colors[i])\n",
        "plt.legend([\"Eta = e^-\" + str(exp) for exp in range(10, 16)])\n",
        "plt.xlabel(\"N\")\n",
        "plt.ylabel(\"Training Error\")\n",
        "plt.title(\"Plotting SGD Convergence\")"
      ]
    },
    {
      "cell_type": "markdown",
      "metadata": {
        "id": "_vRECK4XI7dM"
      },
      "source": [
        "## Problem 3I"
      ]
    },
    {
      "cell_type": "markdown",
      "metadata": {
        "id": "wCovlxnHI7dM"
      },
      "source": [
        "Provide your code for computing the least-squares analytical solution below."
      ]
    },
    {
      "cell_type": "code",
      "execution_count": 50,
      "metadata": {
        "collapsed": true,
        "id": "PW5MWI-2I7dM"
      },
      "outputs": [
        {
          "name": "stdout",
          "output_type": "stream",
          "text": [
            "[[ -0.31644251]\n",
            " [ -5.99157048]\n",
            " [  4.01509955]\n",
            " [-11.93325972]\n",
            " [  8.99061096]]\n"
          ]
        }
      ],
      "source": [
        "#==============================================\n",
        "# TODO: implement the least-squares\n",
        "# analytical solution.\n",
        "#==============================================\n",
        "weights = []\n",
        "x_matrix = np.zeros((len(X), len(X[0])))\n",
        "\n",
        "for ind, input in enumerate(X):\n",
        "    x_matrix[ind] = np.transpose(input)\n",
        "        \n",
        "x_trans = np.transpose(np.copy(x_matrix))\n",
        "weights = np.matmul(np.matmul(np.linalg.inv(np.matmul(x_trans, x_matrix)), x_trans), Y)\n",
        "print(weights)\n"
      ]
    }
  ],
  "metadata": {
    "anaconda-cloud": {},
    "colab": {
      "include_colab_link": true,
      "name": "3_notebook_part2.ipynb",
      "provenance": []
    },
    "kernelspec": {
      "display_name": "Python 3",
      "language": "python",
      "name": "python3"
    },
    "language_info": {
      "codemirror_mode": {
        "name": "ipython",
        "version": 3
      },
      "file_extension": ".py",
      "mimetype": "text/x-python",
      "name": "python",
      "nbconvert_exporter": "python",
      "pygments_lexer": "ipython3",
      "version": "3.10.7"
    },
    "vscode": {
      "interpreter": {
        "hash": "369f2c481f4da34e4445cda3fffd2e751bd1c4d706f27375911949ba6bb62e1c"
      }
    }
  },
  "nbformat": 4,
  "nbformat_minor": 0
}
