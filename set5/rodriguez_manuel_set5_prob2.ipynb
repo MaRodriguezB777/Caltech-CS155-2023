{
  "cells": [
    {
      "cell_type": "markdown",
      "metadata": {
        "id": "IS9bmSu8vaTK"
      },
      "source": [
        "[![Open In Colab](https://colab.research.google.com/assets/colab-badge.svg)](https://colab.research.google.com/github/emiletimothy/Caltech-CS155-2023/blob/main/set5/set5_prob2.ipynb)\n"
      ]
    },
    {
      "cell_type": "markdown",
      "metadata": {
        "id": "BFhKOX36vaTM"
      },
      "source": [
        "# Problem 2"
      ]
    },
    {
      "cell_type": "code",
      "execution_count": 1,
      "metadata": {
        "id": "Q7rqMSnevaTN"
      },
      "outputs": [],
      "source": [
        "import numpy as np\n",
        "import matplotlib.pyplot as plt"
      ]
    },
    {
      "cell_type": "code",
      "execution_count": 2,
      "metadata": {
        "colab": {
          "base_uri": "https://localhost:8080/"
        },
        "id": "nVpiAvurvaTN",
        "outputId": "25dbb182-c1d4-4d62-fa10-0df5f0493411"
      },
      "outputs": [
        {
          "name": "stdout",
          "output_type": "stream",
          "text": [
            "--2023-02-23 21:39:08--  https://raw.githubusercontent.com/emiletimothy/Caltech-CS155-2023/main/set5/data/train.txt\n",
            "Resolving raw.githubusercontent.com (raw.githubusercontent.com)... 185.199.111.133, 185.199.108.133, 185.199.110.133, ...\n",
            "Connecting to raw.githubusercontent.com (raw.githubusercontent.com)|185.199.111.133|:443... connected.\n",
            "HTTP request sent, awaiting response... 200 OK\n",
            "Length: 685602 (670K) [text/plain]\n",
            "Saving to: ‘train.txt’\n",
            "\n",
            "train.txt           100%[===================>] 669.53K  --.-KB/s    in 0.05s   \n",
            "\n",
            "2023-02-23 21:39:08 (12.5 MB/s) - ‘train.txt’ saved [685602/685602]\n",
            "\n",
            "--2023-02-23 21:39:08--  https://raw.githubusercontent.com/emiletimothy/Caltech-CS155-2023/main/set5/data/test.txt\n",
            "Resolving raw.githubusercontent.com (raw.githubusercontent.com)... 185.199.108.133, 185.199.109.133, 185.199.110.133, ...\n",
            "Connecting to raw.githubusercontent.com (raw.githubusercontent.com)|185.199.108.133|:443... connected.\n",
            "HTTP request sent, awaiting response... 200 OK\n",
            "Length: 293571 (287K) [text/plain]\n",
            "Saving to: ‘test.txt’\n",
            "\n",
            "test.txt            100%[===================>] 286.69K  --.-KB/s    in 0.04s   \n",
            "\n",
            "2023-02-23 21:39:09 (7.26 MB/s) - ‘test.txt’ saved [293571/293571]\n",
            "\n"
          ]
        }
      ],
      "source": [
        "# download the dataset\n",
        "!wget -O train.txt https://raw.githubusercontent.com/emiletimothy/Caltech-CS155-2023/main/set5/data/train.txt\n",
        "!wget -O test.txt https://raw.githubusercontent.com/emiletimothy/Caltech-CS155-2023/main/set5/data/test.txt"
      ]
    },
    {
      "cell_type": "markdown",
      "metadata": {
        "id": "1-5_kJGPvaTO"
      },
      "source": [
        "## 2C:\n",
        "Fill in these functions to train your SVD"
      ]
    },
    {
      "cell_type": "code",
      "execution_count": 3,
      "metadata": {
        "id": "_AHQY0OPvaTO"
      },
      "outputs": [],
      "source": [
        "def grad_U(Ui, Yij, Vj, reg, eta):\n",
        "    \"\"\"\n",
        "    Takes as input Ui (the ith row of U), a training point Yij, the column\n",
        "    vector Vj (jth column of V^T), reg (the regularization parameter lambda),\n",
        "    and eta (the learning rate).\n",
        "\n",
        "    Returns the gradient of the regularized loss function with\n",
        "    respect to Ui multiplied by eta.\n",
        "    \"\"\"\n",
        "    return eta * ((reg * Ui) - Vj * (Yij - np.dot(Ui, Vj)))\n",
        "\n",
        "def grad_V(Vj, Yij, Ui, reg, eta):\n",
        "    \"\"\"\n",
        "    Takes as input the column vector Vj (jth column of V^T), a training point Yij,\n",
        "    Ui (the ith row of U), reg (the regularization parameter lambda),\n",
        "    and eta (the learning rate).\n",
        "\n",
        "    Returns the gradient of the regularized loss function with\n",
        "    respect to Vj multiplied by eta.\n",
        "    \"\"\"\n",
        "    return eta * ((reg * Vj) - Ui * (Yij - np.dot(Ui, Vj)))\n",
        "\n",
        "def get_err(U, V, Y, reg=0.0):\n",
        "    \"\"\"\n",
        "    Takes as input a matrix Y of triples (i, j, Y_ij) where i is the index of a user,\n",
        "    j is the index of a movie, and Y_ij is user i's rating of movie j and\n",
        "    user/movie matrices U and V.\n",
        "\n",
        "    Returns the mean regularized squared-error of predictions made by\n",
        "    estimating Y_{ij} as the dot product of the ith row of U and the jth column of V^T.\n",
        "    \"\"\"\n",
        "    prod = np.matmul(U, V.T)\n",
        "    error = 0\n",
        "\n",
        "    for (i, j, Y_ij) in Y:\n",
        "      error += (prod[i][j] - Y_ij)**2\n",
        "\n",
        "    return error / (2 * Y.shape[0])\n",
        "\n",
        "\n",
        "def train_model(M, N, K, eta, reg, Y, eps=0.0001, max_epochs=300):\n",
        "    \"\"\"\n",
        "    Given a training data matrix Y containing rows (i, j, Y_ij)\n",
        "    where Y_ij is user i's rating on movie j, learns an\n",
        "    M x K matrix U and N x K matrix V such that rating Y_ij is approximated\n",
        "    by (UV^T)_ij.\n",
        "\n",
        "    Uses a learning rate of <eta> and regularization of <reg>. Stops after\n",
        "    <max_epochs> epochs, or once the magnitude of the decrease in regularized\n",
        "    MSE between epochs is smaller than a fraction <eps> of the decrease in\n",
        "    MSE after the first epoch.\n",
        "\n",
        "    Returns a tuple (U, V, err) consisting of U, V, and the unregularized MSE\n",
        "    of the model.\n",
        "    \"\"\"\n",
        "    U, V = np.random.uniform(-0.5, 0.5, (M + 1, K)), np.random.uniform(-0.5, 0.5, (N + 1, K))\n",
        "    error = get_err(U, V, Y, reg)\n",
        "\n",
        "    first_diff = 0\n",
        "    for epoch in range(max_epochs):\n",
        "        for (i, j, Yij) in Y:\n",
        "            U[i] = U[i] - grad_U(U[i], Yij, V[j], reg, eta)\n",
        "            V[j] = V[j] - grad_V(V[j], Yij, U[i], reg, eta)\n",
        "\n",
        "        new_error = get_err(U, V, Y, reg)\n",
        "\n",
        "        if epoch == 0:\n",
        "          first_diff = new_error - error\n",
        "          error = new_error\n",
        "          continue\n",
        "        elif (new_error - error)/first_diff <= eps:\n",
        "            error = new_error\n",
        "            break\n",
        "\n",
        "        error = new_error\n",
        "\n",
        "    return (U, V, error)\n",
        "\n"
      ]
    },
    {
      "cell_type": "markdown",
      "metadata": {
        "id": "6qqeUIekvaTP"
      },
      "source": [
        "## 2D:\n",
        "Run the cell below to get your graphs"
      ]
    },
    {
      "cell_type": "code",
      "execution_count": 4,
      "metadata": {
        "colab": {
          "base_uri": "https://localhost:8080/",
          "height": 312
        },
        "id": "6w78C8wevaTP",
        "outputId": "7a081fd2-8e36-4b1e-ca65-b8a07eddbbb5"
      },
      "outputs": [
        {
          "name": "stdout",
          "output_type": "stream",
          "text": [
            "Factorizing with  943  users,  1682  movies.\n"
          ]
        },
        {
          "data": {
            "image/png": "[encoded data removed]",
            "text/plain": [
              "<Figure size 432x288 with 1 Axes>"
            ]
          },
          "metadata": {
            "needs_background": "light"
          },
          "output_type": "display_data"
        }
      ],
      "source": [
        "Y_train = np.loadtxt('train.txt').astype(int)\n",
        "Y_test = np.loadtxt('test.txt').astype(int)\n",
        "\n",
        "M = max(max(Y_train[:,0]), max(Y_test[:,0])).astype(int) # users\n",
        "N = max(max(Y_train[:,1]), max(Y_test[:,1])).astype(int) # movies\n",
        "print(\"Factorizing with \", M, \" users, \", N, \" movies.\")\n",
        "Ks = [10,20,30,50,100]\n",
        "\n",
        "reg = 0.0\n",
        "eta = 0.03 # learning rate\n",
        "E_in = []\n",
        "E_out = []\n",
        "\n",
        "# Use to compute Ein and Eout\n",
        "for K in Ks:\n",
        "    U,V, err = train_model(M, N, K, eta, reg, Y_train)\n",
        "    E_in.append(err)\n",
        "    E_out.append(get_err(U, V, Y_test))\n",
        "\n",
        "plt.plot(Ks, E_in, label='$E_{in}$')\n",
        "plt.plot(Ks, E_out, label='$E_{out}$')\n",
        "plt.title('Error vs. K')\n",
        "plt.xlabel('K')\n",
        "plt.ylabel('Error')\n",
        "plt.legend()\n",
        "plt.savefig('2d.png')"
      ]
    },
    {
      "cell_type": "markdown",
      "metadata": {
        "id": "Uekwe9TlvaTP"
      },
      "source": [
        "## 2E:\n",
        "Run the cell below to get your graphs. This might take a long time to run, but it should take less than 2 hours. I would encourage you to validate your 2C is correct."
      ]
    },
    {
      "cell_type": "code",
      "execution_count": 5,
      "metadata": {
        "colab": {
          "base_uri": "https://localhost:8080/",
          "height": 730
        },
        "id": "hYYNazKQvaTP",
        "outputId": "491a68fa-195a-4f01-e3a6-021b13b7ec8a"
      },
      "outputs": [
        {
          "name": "stdout",
          "output_type": "stream",
          "text": [
            "Training model with M = 943, N = 1682, k = 10, eta = 0.03, reg = 0.0001\n",
            "Training model with M = 943, N = 1682, k = 20, eta = 0.03, reg = 0.0001\n",
            "Training model with M = 943, N = 1682, k = 30, eta = 0.03, reg = 0.0001\n",
            "Training model with M = 943, N = 1682, k = 50, eta = 0.03, reg = 0.0001\n",
            "Training model with M = 943, N = 1682, k = 100, eta = 0.03, reg = 0.0001\n",
            "Training model with M = 943, N = 1682, k = 10, eta = 0.03, reg = 0.001\n",
            "Training model with M = 943, N = 1682, k = 20, eta = 0.03, reg = 0.001\n",
            "Training model with M = 943, N = 1682, k = 30, eta = 0.03, reg = 0.001\n",
            "Training model with M = 943, N = 1682, k = 50, eta = 0.03, reg = 0.001\n",
            "Training model with M = 943, N = 1682, k = 100, eta = 0.03, reg = 0.001\n",
            "Training model with M = 943, N = 1682, k = 10, eta = 0.03, reg = 0.01\n",
            "Training model with M = 943, N = 1682, k = 20, eta = 0.03, reg = 0.01\n",
            "Training model with M = 943, N = 1682, k = 30, eta = 0.03, reg = 0.01\n",
            "Training model with M = 943, N = 1682, k = 50, eta = 0.03, reg = 0.01\n",
            "Training model with M = 943, N = 1682, k = 100, eta = 0.03, reg = 0.01\n",
            "Training model with M = 943, N = 1682, k = 10, eta = 0.03, reg = 0.1\n",
            "Training model with M = 943, N = 1682, k = 20, eta = 0.03, reg = 0.1\n",
            "Training model with M = 943, N = 1682, k = 30, eta = 0.03, reg = 0.1\n",
            "Training model with M = 943, N = 1682, k = 50, eta = 0.03, reg = 0.1\n",
            "Training model with M = 943, N = 1682, k = 100, eta = 0.03, reg = 0.1\n",
            "Training model with M = 943, N = 1682, k = 10, eta = 0.03, reg = 1\n",
            "Training model with M = 943, N = 1682, k = 20, eta = 0.03, reg = 1\n",
            "Training model with M = 943, N = 1682, k = 30, eta = 0.03, reg = 1\n",
            "Training model with M = 943, N = 1682, k = 50, eta = 0.03, reg = 1\n",
            "Training model with M = 943, N = 1682, k = 100, eta = 0.03, reg = 1\n"
          ]
        },
        {
          "data": {
            "image/png": "[encoded data removed]",
            "text/plain": [
              "<Figure size 432x288 with 1 Axes>"
            ]
          },
          "metadata": {
            "needs_background": "light"
          },
          "output_type": "display_data"
        }
      ],
      "source": [
        "Y_train = np.loadtxt('train.txt').astype(int)\n",
        "Y_test = np.loadtxt('test.txt').astype(int)\n",
        "\n",
        "M = max(max(Y_train[:,0]), max(Y_test[:,0])).astype(int) # users\n",
        "N = max(max(Y_train[:,1]), max(Y_test[:,1])).astype(int) # movies\n",
        "Ks = [10,20,30,50,100]\n",
        "\n",
        "regs = [10**-4, 10**-3, 10**-2, 10**-1, 1]\n",
        "eta = 0.03 # learning rate\n",
        "E_ins = []\n",
        "E_outs = []\n",
        "\n",
        "# Use to compute Ein and Eout\n",
        "for reg in regs:\n",
        "    E_ins_for_lambda = []\n",
        "    E_outs_for_lambda = []\n",
        "\n",
        "    for k in Ks:\n",
        "        print(\"Training model with M = %s, N = %s, k = %s, eta = %s, reg = %s\"%(M, N, k, eta, reg))\n",
        "        U,V, e_in = train_model(M, N, k, eta, reg, Y_train)\n",
        "        E_ins_for_lambda.append(e_in)\n",
        "        eout = get_err(U, V, Y_test)\n",
        "        E_outs_for_lambda.append(eout)\n",
        "\n",
        "    E_ins.append(E_ins_for_lambda)\n",
        "    E_outs.append(E_outs_for_lambda)\n",
        "\n",
        "\n",
        "# Plot values of E_in across k for each value of lambda\n",
        "for i in range(len(regs)):\n",
        "    plt.plot(Ks, E_ins[i], label='$E_{in}, \\lambda=$'+str(regs[i]))\n",
        "plt.title('$E_{in}$ vs. K')\n",
        "plt.xlabel('K')\n",
        "plt.ylabel('Error')\n",
        "plt.legend()\n",
        "plt.savefig('2e_ein.png')\t\n",
        "plt.clf()\n",
        "\n",
        "# Plot values of E_out across k for each value of lambda\n",
        "for i in range(len(regs)):\n",
        "    plt.plot(Ks, E_outs[i], label='$E_{out}, \\lambda=$'+str(regs[i]))\n",
        "plt.title('$E_{out}$ vs. K')\n",
        "plt.xlabel('K')\n",
        "plt.ylabel('Error')\n",
        "plt.legend()\t\n",
        "plt.savefig('2e_eout.png')\t\t\n"
      ]
    },
    {
      "cell_type": "code",
      "execution_count": 5,
      "metadata": {
        "id": "wgsUmJ6SvaTQ"
      },
      "outputs": [],
      "source": []
    }
  ],
  "metadata": {
    "colab": {
      "provenance": []
    },
    "kernelspec": {
      "display_name": "Python 3",
      "language": "python",
      "name": "python3"
    },
    "language_info": {
      "codemirror_mode": {
        "name": "ipython",
        "version": 3
      },
      "file_extension": ".py",
      "mimetype": "text/x-python",
      "name": "python",
      "nbconvert_exporter": "python",
      "pygments_lexer": "ipython3",
      "version": "3.10.7"
    },
    "vscode": {
      "interpreter": {
        "hash": "369f2c481f4da34e4445cda3fffd2e751bd1c4d706f27375911949ba6bb62e1c"
      }
    }
  },
  "nbformat": 4,
  "nbformat_minor": 0
}
