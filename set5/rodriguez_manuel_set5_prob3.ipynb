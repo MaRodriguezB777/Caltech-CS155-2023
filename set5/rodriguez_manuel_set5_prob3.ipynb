{
  "cells": [
    {
      "cell_type": "markdown",
      "metadata": {
        "id": "UwdvrXTFLOQD"
      },
      "source": [
        "[![Open In Colab](https://colab.research.google.com/assets/colab-badge.svg)](https://colab.research.google.com/github/emiletimothy/Caltech-CS155-2023/blob/main/set5/set5_prob3.ipynb)\n"
      ]
    },
    {
      "cell_type": "markdown",
      "metadata": {
        "id": "ViXzmmMF4T9_"
      },
      "source": [
        "## Set 5\n",
        "## 3. Word2Vec **Principles**"
      ]
    },
    {
      "cell_type": "markdown",
      "metadata": {
        "id": "HXT_eNcB93ue"
      },
      "source": [
        "#### Preparation"
      ]
    },
    {
      "cell_type": "code",
      "execution_count": 43,
      "metadata": {
        "id": "2wZbd6FeH7cY",
        "colab": {
          "base_uri": "https://localhost:8080/"
        },
        "outputId": "11649375-b1db-49ab-ba17-c167101181eb"
      },
      "outputs": [
        {
          "output_type": "stream",
          "name": "stdout",
          "text": [
            "--2023-02-24 00:34:26--  https://raw.githubusercontent.com/emiletimothy/Caltech-CS155-2023/main/set5/P3CHelpers.py\n",
            "Resolving raw.githubusercontent.com (raw.githubusercontent.com)... 185.199.111.133, 185.199.108.133, 185.199.109.133, ...\n",
            "Connecting to raw.githubusercontent.com (raw.githubusercontent.com)|185.199.111.133|:443... connected.\n",
            "HTTP request sent, awaiting response... 200 OK\n",
            "Length: 4939 (4.8K) [text/plain]\n",
            "Saving to: ‘P3CHelpers.py’\n",
            "\n",
            "\rP3CHelpers.py         0%[                    ]       0  --.-KB/s               \rP3CHelpers.py       100%[===================>]   4.82K  --.-KB/s    in 0s      \n",
            "\n",
            "2023-02-24 00:34:26 (49.6 MB/s) - ‘P3CHelpers.py’ saved [4939/4939]\n",
            "\n"
          ]
        }
      ],
      "source": [
        "# download the helper function\n",
        "!wget -O P3CHelpers.py https://raw.githubusercontent.com/emiletimothy/Caltech-CS155-2023/main/set5/P3CHelpers.py"
      ]
    },
    {
      "cell_type": "code",
      "execution_count": 44,
      "metadata": {
        "id": "LmmdYcVUH9D8",
        "colab": {
          "base_uri": "https://localhost:8080/"
        },
        "outputId": "a33dddff-a4d4-4f02-e74f-958553183233"
      },
      "outputs": [
        {
          "output_type": "stream",
          "name": "stdout",
          "text": [
            "--2023-02-24 00:34:26--  https://raw.githubusercontent.com/emiletimothy/Caltech-CS155-2023/main/set5/data/dr_seuss.txt\n",
            "Resolving raw.githubusercontent.com (raw.githubusercontent.com)... 185.199.108.133, 185.199.109.133, 185.199.110.133, ...\n",
            "Connecting to raw.githubusercontent.com (raw.githubusercontent.com)|185.199.108.133|:443... connected.\n",
            "HTTP request sent, awaiting response... 200 OK\n",
            "Length: 8810 (8.6K) [text/plain]\n",
            "Saving to: ‘dr_seuss.txt’\n",
            "\n",
            "\rdr_seuss.txt          0%[                    ]       0  --.-KB/s               \rdr_seuss.txt        100%[===================>]   8.60K  --.-KB/s    in 0s      \n",
            "\n",
            "2023-02-24 00:34:26 (45.0 MB/s) - ‘dr_seuss.txt’ saved [8810/8810]\n",
            "\n"
          ]
        }
      ],
      "source": [
        "# download the dataset\n",
        "!wget -O dr_seuss.txt https://raw.githubusercontent.com/emiletimothy/Caltech-CS155-2023/main/set5/data/dr_seuss.txt"
      ]
    },
    {
      "cell_type": "code",
      "execution_count": 45,
      "metadata": {
        "id": "Groxh_Rz4QLB"
      },
      "outputs": [],
      "source": [
        "import numpy as np\n",
        "from P3CHelpers import *\n",
        "import torch\n",
        "import torch.nn as nn\n",
        "import torch.optim as optim"
      ]
    },
    {
      "cell_type": "markdown",
      "metadata": {
        "id": "h9aBEkZD5wb2"
      },
      "source": [
        "#### Problem D: \n",
        "Fill in the generate_traindata and find_most_similar_pairs functions."
      ]
    },
    {
      "cell_type": "code",
      "execution_count": 46,
      "metadata": {
        "id": "UChXkrvs7OF0"
      },
      "outputs": [],
      "source": [
        "def get_word_repr(word_to_index, word):\n",
        "    \"\"\"\n",
        "    Returns one-hot-encoded feature representation of the specified word given\n",
        "    a dictionary mapping words to their one-hot-encoded index.\n",
        "\n",
        "    Arguments:\n",
        "        word_to_index: Dictionary mapping words to their corresponding index\n",
        "                       in a one-hot-encoded representation of our corpus.\n",
        "\n",
        "        word:          Word whose feature representation we wish to compute.\n",
        "\n",
        "    Returns:\n",
        "        feature_representation:     Feature representation of the passed-in word.\n",
        "    \"\"\"\n",
        "    unique_words = word_to_index.keys()\n",
        "    # Return a vector that's zero everywhere besides the index corresponding to <word>\n",
        "    feature_representation = np.zeros(len(unique_words))\n",
        "    feature_representation[word_to_index[word]] = 1\n",
        "    return feature_representation    \n",
        "\n",
        "def generate_traindata(word_list, word_to_index, window_size=4):\n",
        "    \"\"\"\n",
        "    Generates training data for Skipgram model.\n",
        "\n",
        "    Arguments:\n",
        "        word_list:     Sequential list of words (strings).\n",
        "        word_to_index: Dictionary mapping words to their corresponding index\n",
        "                       in a one-hot-encoded representation of our corpus.\n",
        "\n",
        "        window_size:   Size of Skipgram window. Defaults to 2 \n",
        "                       (use the default value when running your code).\n",
        "\n",
        "    Returns:\n",
        "        (trainX, trainY):     A pair of matrices (trainX, trainY) containing training \n",
        "                              points (one-hot-encoded vectors) and their corresponding output_word\n",
        "                              (also one-hot-encoded vectors)\n",
        "\n",
        "    \"\"\"\n",
        "    trainX = []\n",
        "    trainY = []\n",
        "\n",
        "    for i in range(len(word_list)):\n",
        "      word = word_list[i]\n",
        "      for j in range(window_size):\n",
        "        word_to_index[word_list[i]]\n",
        "        right = i + j\n",
        "        left = i - j\n",
        "        if(left >= 0):\n",
        "          trainX.append(get_word_repr(word_to_index, word))\n",
        "          trainY.append(get_word_repr(word_to_index, word_list[left]))\n",
        "        if(right < len(word_list)):\n",
        "          trainX.append(get_word_repr(word_to_index, word))\n",
        "          trainY.append(get_word_repr(word_to_index, word_list[right]))\n",
        "        \n",
        "          \n",
        "    ##############################################################\n",
        "    # TODO: Implement this function, populating trainX and trainY\n",
        "    ##############################################################\n",
        "    \n",
        "    return np.array(trainX), np.array(trainY)"
      ]
    },
    {
      "cell_type": "code",
      "execution_count": 47,
      "metadata": {
        "id": "OoaUtBqd7V-A"
      },
      "outputs": [],
      "source": [
        "def find_most_similar_pairs(filename, num_latent_factors):\n",
        "    \"\"\"\n",
        "    Find the most similar pairs from the word embeddings computed from\n",
        "    a body of text\n",
        "    \n",
        "    Arguments:\n",
        "        filename:           Text file to read and train embeddings from\n",
        "        num_latent_factors: The number of latent factors / the size of the embedding\n",
        "    \"\"\"\n",
        "    # Load in a list of words from the specified file; remove non-alphanumeric characters\n",
        "    # and make all chars lowercase.\n",
        "    sample_text = load_word_list(filename)\n",
        "\n",
        "    # Create word dictionary\n",
        "    word_to_index = generate_onehot_dict(sample_text)\n",
        "    print(\"Textfile contains %s unique words\"%len(word_to_index))\n",
        "    # Create training data\n",
        "    trainX, trainY = generate_traindata(sample_text, word_to_index)\n",
        "\n",
        "    ##############################################################\n",
        "    # TODO: 1) Create and train model in Pytorch.      \n",
        "    ##############################################################\n",
        "\n",
        "    # vocab_size = number of unique words in our text file. Will be useful \n",
        "    # when adding layers to your neural network\n",
        "    vocab_size = len(word_to_index)\n",
        "\n",
        "    model = nn.Sequential(\n",
        "        nn.Linear(vocab_size, num_latent_factors).double(),\n",
        "        nn.Linear(num_latent_factors, vocab_size).double()\n",
        "    )\n",
        "    optimizer = torch.optim.SGD(model.parameters(), lr=1e-3)\n",
        "    loss_fn = nn.CrossEntropyLoss()\n",
        "\n",
        "    model.train()\n",
        "\n",
        "    for epoch in range(10):\n",
        "          # Erase accumulated gradients\n",
        "          optimizer.zero_grad()\n",
        "\n",
        "          # Forward pass\n",
        "          output = model(torch.from_numpy(trainX))\n",
        "\n",
        "          # Calculate loss\n",
        "          loss = loss_fn(output, torch.from_numpy(trainY))\n",
        "\n",
        "          # Backward pass\n",
        "          loss.backward()\n",
        "          \n",
        "          # Weight update\n",
        "          optimizer.step()\n",
        "\n",
        "\n",
        "    ##############################################################\n",
        "    # TODO: 2) Extract weights for hidden layer\n",
        "    ##############################################################\n",
        "    \n",
        "    # set weights variable below\n",
        "    weights = model[0].weight\n",
        "\n",
        "    print(\"weights_hidden_shape = \", weights.shape)\n",
        "\n",
        "    weights = (weights.detach().numpy()).T\n",
        "    print(\"weights_output_shape = \", weights[1].shape)\n",
        "    \n",
        "    # Find and print most similar pairs\n",
        "    similar_pairs = most_similar_pairs(weights, word_to_index)\n",
        "    for pair in similar_pairs[:30]:\n",
        "        print(pair)"
      ]
    },
    {
      "cell_type": "markdown",
      "metadata": {
        "id": "xFBMhtCJ8LyA"
      },
      "source": [
        "### Problem E-H:\n",
        "Run your model on drseuss.txt and answer questions from E through H."
      ]
    },
    {
      "cell_type": "code",
      "execution_count": 48,
      "metadata": {
        "id": "bR7ZicNJ6tyN",
        "colab": {
          "base_uri": "https://localhost:8080/"
        },
        "outputId": "8d97e64e-0626-4c55-cf5c-ce27412a68a1"
      },
      "outputs": [
        {
          "output_type": "stream",
          "name": "stdout",
          "text": [
            "Textfile contains 308 unique words\n",
            "weights_hidden_shape =  torch.Size([10, 308])\n",
            "weights_output_shape =  (10,)\n",
            "Pair(head, must), Similarity: 0.9282510690175478\n",
            "Pair(must, head), Similarity: 0.9282510690175478\n",
            "Pair(something, haircut), Similarity: 0.9224151455842533\n",
            "Pair(haircut, something), Similarity: 0.9224151455842533\n",
            "Pair(need, found), Similarity: 0.9080686373556217\n",
            "Pair(found, need), Similarity: 0.9080686373556217\n",
            "Pair(tree, train), Similarity: 0.9074498512487238\n",
            "Pair(train, tree), Similarity: 0.9074498512487238\n",
            "Pair(pets, boat), Similarity: 0.9022582759140938\n",
            "Pair(boat, pets), Similarity: 0.9022582759140938\n",
            "Pair(high, low), Similarity: 0.9008839551606586\n",
            "Pair(low, high), Similarity: 0.9008839551606586\n",
            "Pair(socks, thank), Similarity: 0.9006436508763898\n",
            "Pair(thank, socks), Similarity: 0.9006436508763898\n",
            "Pair(fear, may), Similarity: 0.8974156756953375\n",
            "Pair(may, fear), Similarity: 0.8974156756953375\n",
            "Pair(play, tree), Similarity: 0.8960527003604988\n",
            "Pair(little, cans), Similarity: 0.8923078111882866\n",
            "Pair(cans, little), Similarity: 0.8923078111882866\n",
            "Pair(look, our), Similarity: 0.8922754753879034\n",
            "Pair(our, look), Similarity: 0.8922754753879034\n",
            "Pair(know, run), Similarity: 0.8917988014632692\n",
            "Pair(run, know), Similarity: 0.8917988014632692\n",
            "Pair(house, drink), Similarity: 0.8915372317444944\n",
            "Pair(drink, house), Similarity: 0.8915372317444944\n",
            "Pair(try, ink), Similarity: 0.8889973155114509\n",
            "Pair(ink, try), Similarity: 0.8889973155114509\n",
            "Pair(very, dear), Similarity: 0.8886558979360148\n",
            "Pair(dear, very), Similarity: 0.8886558979360148\n",
            "Pair(to, did), Similarity: 0.8870459935203744\n"
          ]
        }
      ],
      "source": [
        "find_most_similar_pairs('dr_seuss.txt', 10)"
      ]
    }
  ],
  "metadata": {
    "colab": {
      "provenance": []
    },
    "kernelspec": {
      "display_name": "Python 3",
      "name": "python3"
    },
    "language_info": {
      "name": "python"
    }
  },
  "nbformat": 4,
  "nbformat_minor": 0
}