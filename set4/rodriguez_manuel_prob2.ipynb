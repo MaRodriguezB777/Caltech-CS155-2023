{
  "cells": [
    {
      "cell_type": "markdown",
      "metadata": {
        "colab_type": "text",
        "id": "view-in-github"
      },
      "source": [
        "<a href=\"https://colab.research.google.com/github/emiletimothy/Caltech-CS155-2023/blob/main/set4/prob2_starter.ipynb\" target=\"_parent\"><img src=\"https://colab.research.google.com/assets/colab-badge.svg\" alt=\"Open In Colab\"/></a>"
      ]
    },
    {
      "cell_type": "code",
      "execution_count": 16,
      "metadata": {
        "id": "0fzZb8grE78U"
      },
      "outputs": [],
      "source": [
        "import torch\n",
        "import torch.nn as nn\n",
        "import torch.nn.functional as F\n",
        "from torch.utils.data import TensorDataset, DataLoader\n",
        "import numpy as np\n",
        "import pandas as pd\n",
        "import seaborn as sns\n",
        "\n",
        "from sklearn.preprocessing import StandardScaler\n",
        "from sklearn.model_selection import train_test_split"
      ]
    },
    {
      "cell_type": "markdown",
      "metadata": {
        "id": "VvPFMow_NNry"
      },
      "source": [
        "# Part A: Data Setup"
      ]
    },
    {
      "cell_type": "code",
      "execution_count": 17,
      "metadata": {
        "id": "7m_kQfspQJNf"
      },
      "outputs": [],
      "source": [
        "# data preprocessing\n",
        "\n",
        "df = pd.read_csv(\"data/COVID-19_Case_Surveillance_Public_Use_Data_Subset.csv\")\n",
        "\n",
        "# TODO: preprocess df\n",
        "df = df.dropna()\n",
        "cols = ['cdc_report_dt', 'race_ethnicity_combined']\n",
        "df = df.drop(cols, axis=1)\n",
        "df = df[df.death_yn != 'Missing']\n",
        "df = df[df.death_yn != 'Unknown']\n",
        "\n",
        "df = df.replace({'Male' : float(-1), 'Female' : float(1), \n",
        "            'Laboratory-confirmed case' : float(-1), 'Probable Case' : float(1),\n",
        "            'Unknown' : float(0), 'Missing' : float(0),\n",
        "            'No': -1, 'Yes': 1,\n",
        "            '0 - 9 Years' : float(5),\n",
        "            '10 - 19 Years' : float(15),\n",
        "            '20 - 29 Years' : float(25),\n",
        "            '30 - 39 Years' : float(35),\n",
        "            '40 - 49 Years' : float(45),\n",
        "            '50 - 59 Years' : float(55),\n",
        "            '60 - 69 Years' : float(65),\n",
        "            '70 - 79 Years' : float(75),\n",
        "            '80+ Years' : float(85)})\n",
        "\n",
        "df['cdc_case_earliest_dt '] = df['cdc_case_earliest_dt '].apply(pd.to_datetime).apply(lambda x: x.value / 10**12)\n",
        "df['pos_spec_dt'] = df['pos_spec_dt'].apply(pd.to_datetime).apply(lambda x: x.value / 10**12)\n",
        "df['onset_dt'] = df['onset_dt'].apply(pd.to_datetime).apply(lambda x: x.value / 10**12)\n",
        "\n",
        "sc_train = StandardScaler()\n",
        "\n",
        "Y = df['death_yn'].replace({-1 : float(0)})\n",
        "X = df.drop('death_yn', axis=1)\n",
        "\n",
        "for col in X.columns:\n",
        "    X[[col]] = sc_train.fit_transform(X[[col]])\n",
        "\n",
        "X = X.values\n",
        "Y = Y.values"
      ]
    },
    {
      "cell_type": "code",
      "execution_count": 18,
      "metadata": {
        "id": "3Wn-AQp6FDpM"
      },
      "outputs": [],
      "source": [
        "# TODO: make sure your data can be converted to torch tensors\n",
        "\n",
        "train_X, test_X, train_y, test_y = train_test_split(X, Y, test_size=0.2, random_state=0)\n",
        "\n",
        "train_X = torch.FloatTensor(train_X)\n",
        "test_X = torch.FloatTensor(test_X)\n",
        "train_y = torch.LongTensor(train_y)\n",
        "test_y = torch.LongTensor(test_y)\n",
        "# make datasets and dataloaders\n",
        "\n",
        "train_dataset = TensorDataset(train_X, train_y)\n",
        "test_dataset = TensorDataset(test_X, test_y)\n",
        "\n",
        "train_loader = torch.utils.data.DataLoader(train_dataset, batch_size=32, shuffle=True)\n",
        "test_loader = torch.utils.data.DataLoader(test_dataset, batch_size=32, shuffle=True) \n"
      ]
    },
    {
      "cell_type": "markdown",
      "metadata": {
        "id": "Ccx89l3btfq4"
      },
      "source": [
        "# Part B: Linear Neural Network"
      ]
    },
    {
      "cell_type": "markdown",
      "metadata": {
        "id": "aICcIvNtNGk2"
      },
      "source": [
        "## Model Setup"
      ]
    },
    {
      "cell_type": "code",
      "execution_count": 19,
      "metadata": {
        "id": "qtMSBKxdFfjq"
      },
      "outputs": [],
      "source": [
        "# TODO: Make your model, optmizer, and loss function here.\n",
        "\n",
        "model = nn.Sequential(\n",
        "    # In problem 2, we don't use the 2D structure of an image at all. Our network\n",
        "    # takes in a flat vector of the pixel values as input.\n",
        "    nn.Linear(train_X.shape[1], 5),\n",
        "    nn.Softmax(dim=1)\n",
        ")\n",
        "\n",
        "optimizer = torch.optim.Adam(model.parameters(), lr=1e-3)\n",
        "loss_fn = nn.CrossEntropyLoss()\n"
      ]
    },
    {
      "cell_type": "markdown",
      "metadata": {
        "id": "uKl5Tm2TNXxc"
      },
      "source": [
        "## Training Loop"
      ]
    },
    {
      "cell_type": "code",
      "execution_count": 30,
      "metadata": {
        "id": "z-RVMsj0NaN7"
      },
      "outputs": [
        {
          "name": "stdout",
          "output_type": "stream",
          "text": [
            "Train Epoch: 1  Loss: 0.9049\n",
            "Average Loss: 0.000019\n",
            "Train Epoch: 2  Loss: 0.9049\n",
            "Average Loss: 0.000019\n",
            "Train Epoch: 3  Loss: 1.0299\n",
            "Average Loss: 0.000022\n",
            "Train Epoch: 4  Loss: 1.0299\n",
            "Average Loss: 0.000022\n",
            "Train Epoch: 5  Loss: 0.9049\n",
            "Average Loss: 0.000019\n",
            "Train Epoch: 6  Loss: 0.9049\n",
            "Average Loss: 0.000019\n",
            "Train Epoch: 7  Loss: 0.9049\n",
            "Average Loss: 0.000019\n",
            "Train Epoch: 8  Loss: 0.9049\n",
            "Average Loss: 0.000019\n",
            "Train Epoch: 9  Loss: 0.9049\n",
            "Average Loss: 0.000019\n",
            "Train Epoch: 10  Loss: 0.9049\n",
            "Average Loss: 0.000019\n"
          ]
        }
      ],
      "source": [
        "# Some layers, such as Dropout, behave differently during training\n",
        "\n",
        "def train(model, optimizer, loss_fn):\n",
        "    model.train()\n",
        "\n",
        "    for epoch in range(10):\n",
        "        for batch_idx, (data, target) in enumerate(train_loader):\n",
        "            # Erase accumulated gradients\n",
        "            optimizer.zero_grad()\n",
        "\n",
        "            # Forward pass\n",
        "            output = model(data)\n",
        "\n",
        "            # Calculate loss\n",
        "            loss = loss_fn(output, target)\n",
        "\n",
        "            # Backward pass\n",
        "            loss.backward()\n",
        "            \n",
        "            # Weight update\n",
        "            optimizer.step()\n",
        "\n",
        "        # Track loss each epoch\n",
        "        print('Train Epoch: %d  Loss: %.4f' % (epoch + 1,  loss.item()))\n",
        "        print(\"Average Loss: %f\" % (loss.item() / len(train_loader.dataset)))\n",
        "train(model, optimizer, loss_fn)"
      ]
    },
    {
      "cell_type": "markdown",
      "metadata": {
        "id": "YZCNGh5mNbE0"
      },
      "source": [
        "## Testing Loop"
      ]
    },
    {
      "cell_type": "code",
      "execution_count": 21,
      "metadata": {
        "colab": {
          "base_uri": "https://localhost:8080/"
        },
        "id": "2SxnJ3eHNfgb",
        "outputId": "f72930fa-b984-4512-9402-fe0eb29c7ee7"
      },
      "outputs": [
        {
          "name": "stdout",
          "output_type": "stream",
          "text": [
            "Test set: Average loss: 0.0290, Accuracy: 11608/11875 (97.7516)\n"
          ]
        }
      ],
      "source": [
        "# Putting layers like Dropout into evaluation mode\n",
        "# model.eval()\n",
        "\n",
        "def test(model, loss_fn):\n",
        "    model.eval()\n",
        "\n",
        "    test_loss = 0\n",
        "    correct = 0\n",
        "\n",
        "    # TODO: Write test loop here.\n",
        "    with torch.no_grad():\n",
        "        for data, target in test_loader:\n",
        "            output = model(data)\n",
        "            test_loss += loss_fn(output, target).item()  # Sum up batch loss\n",
        "            pred = output.argmax(dim=1, keepdim=True)  # Get the index of the max class score\n",
        "            correct += pred.eq(target.view_as(pred)).sum().item()\n",
        "\n",
        "    test_loss /= len(test_loader.dataset)\n",
        "\n",
        "    # TODO: Show results.\n",
        "    print('Test set: Average loss: %.4f, Accuracy: %d/%d (%.4f)' %\n",
        "        (test_loss, correct, len(test_loader.dataset),\n",
        "        100. * correct / len(test_loader.dataset)))\n",
        "\n",
        "test(model, loss_fn)"
      ]
    },
    {
      "cell_type": "markdown",
      "metadata": {
        "id": "sf9UHC-kZ25f"
      },
      "source": [
        "## Weight Matrix Visualization"
      ]
    },
    {
      "cell_type": "code",
      "execution_count": 22,
      "metadata": {
        "id": "aBXDC10mRNto"
      },
      "outputs": [
        {
          "data": {
            "text/plain": [
              "<AxesSubplot: >"
            ]
          },
          "execution_count": 22,
          "metadata": {},
          "output_type": "execute_result"
        },
        {
          "data": {
            "image/png": "[encoded data removed]",
            "text/plain": [
              "<Figure size 640x480 with 2 Axes>"
            ]
          },
          "metadata": {},
          "output_type": "display_data"
        }
      ],
      "source": [
        "weights = model.state_dict()['0.weight']\n",
        "\n",
        "sns.heatmap(weights)"
      ]
    },
    {
      "cell_type": "markdown",
      "metadata": {
        "id": "91H6-NUVZ8Gd"
      },
      "source": [
        "# Part C: 2-Layer Linear Model"
      ]
    },
    {
      "cell_type": "code",
      "execution_count": 23,
      "metadata": {
        "id": "SUd6CAB-WebM"
      },
      "outputs": [
        {
          "name": "stdout",
          "output_type": "stream",
          "text": [
            "Train Epoch: 1  Loss: 0.9076\n",
            "Train Epoch: 2  Loss: 0.9053\n",
            "Train Epoch: 3  Loss: 0.9050\n",
            "Train Epoch: 4  Loss: 1.0299\n",
            "Train Epoch: 5  Loss: 0.9049\n",
            "Train Epoch: 6  Loss: 0.9048\n",
            "Train Epoch: 7  Loss: 0.9048\n",
            "Train Epoch: 8  Loss: 0.9048\n",
            "Train Epoch: 9  Loss: 0.9048\n",
            "Train Epoch: 10  Loss: 0.9048\n",
            "Test set: Average loss: 0.0290, Accuracy: 11608/11875 (97.7516)\n"
          ]
        }
      ],
      "source": [
        "# TODO: Repeat for 2-layer model\n",
        "\n",
        "two_layer_model = nn.Sequential(\n",
        "    nn.Linear(train_X.shape[1], 5),\n",
        "    nn.Linear(5, 5),\n",
        "    nn.Softmax(dim=1)\n",
        ")\n",
        "\n",
        "optimizer = torch.optim.Adam(two_layer_model.parameters(), lr=1e-3)\n",
        "loss_fn = nn.CrossEntropyLoss()\n",
        "\n",
        "train(two_layer_model, optimizer, loss_fn)\n",
        "test(two_layer_model, loss_fn)"
      ]
    }
  ],
  "metadata": {
    "colab": {
      "include_colab_link": true,
      "provenance": []
    },
    "kernelspec": {
      "display_name": "Python 3",
      "language": "python",
      "name": "python3"
    },
    "language_info": {
      "codemirror_mode": {
        "name": "ipython",
        "version": 3
      },
      "file_extension": ".py",
      "mimetype": "text/x-python",
      "name": "python",
      "nbconvert_exporter": "python",
      "pygments_lexer": "ipython3",
      "version": "3.10.7"
    },
    "vscode": {
      "interpreter": {
        "hash": "369f2c481f4da34e4445cda3fffd2e751bd1c4d706f27375911949ba6bb62e1c"
      }
    }
  },
  "nbformat": 4,
  "nbformat_minor": 0
}
